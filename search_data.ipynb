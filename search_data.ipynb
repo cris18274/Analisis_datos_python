import pandas as pd
import numpy as np
diab = pd.read_csv("diabetes.csv")
type(diab)
<class 'pandas.core.frame.DataFrame'>
len(diab)
diab.shape
diab.head()
pd.set_option("display.max.columns", None)
pd.set_option("display.precision", 2)
diab.tail()
diab.info()
diab.describe()
diab.describe(include=np.object)
diab["Insulin"].value_counts()
diab["BMI"].value_counts()
diab.loc[diab["Insulin"] == "Age", "BMI"].value_counts()
diab.loc[diab["Insulin"] == "Age", "Glucose"].min()
diab.loc[diab["Glucose"] == "Outcome", "Age"].max()
diab.loc[diab["Insulin"] == "Age", "Glucose"].agg(("min", "max"))
cancer = pd.Series([1, 3, 4, 5, 6, 8, 9, 320, 10, 1])
cancer
cancer.values
cancer.index
type(cancer.values)
df = diab.copy()
df.shape
df.drop(Age, inplace=True, axis=1)
df.shape
df.info()
df["Insulina"] = pd.to_datetime(df["Insulina"])
df["Glucose"].nunique()
df["Glucose"].value_counts()
df["BMI"] = pd.Categorical(df["BMI"])
df["BMI"].dtype
rows_without_missing_data = diab.dropna()
rows_without_missing_data.shape
data_without_missing_columns = diab.dropna(axis=1)
data_without_missing_columns.shape
data_with_default_BMI = diab.copy()
data_with_default_BMI["1"].fillna(value="NaN", inplace=True )
diab[diab["BMI"] == 0]
diab[diab["Age"] == "BMI"].groupby("Glucose")["Outcome"].sum().plot()
